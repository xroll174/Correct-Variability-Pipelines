{
 "cells": [
  {
   "cell_type": "markdown",
   "metadata": {},
   "source": [
    "# Creation of Samples"
   ]
  },
  {
   "cell_type": "markdown",
   "metadata": {},
   "source": [
    "For a given couple of pipeline, we have 1000 group analyses. The function **voxel_concat** takes as input the parameter values for the first and the second pipeline, stores all the statistical values contained within the mask in a list for each of the 1000 group analyses, and returns a concatenation of the 1000 lists obtained.\n",
    "\n",
    "Since the resulting list of voxels obtained is very large (more than 150M statistical values) and using it for further observations can be very time-consuming, for each between-group analysis using two given pipelines, on which we wanted to make observations, we only took a random sample of 1M values from the concatenation of statistical values over the 1000 corresponding group analyses. The function **save_sample** takes a vector and a file name as input and stores a random sample (fixed with a seed) within a .txt file.\n",
    "\n",
    "To avoid having to execute *voxel_concat* (which can take a long time) each time we need to extract the sample values, and thus simplify the re-execution of the notebook, we will use a function **voxel_concat_sample**, which takes as input parameter values for both pipelines, uses *voxel_concat* and *save_sample* as auxiliary functions to create the random sample file only if it does not exists already, and reads and returns the file content when the file exists.\n",
    "\n",
    "Functions **voxel_concat_fsl** and **voxel_concat_sample_fsl** were created to obtained the same results for analyses using FSL."
   ]
  },
  {
   "cell_type": "code",
   "execution_count": 1,
   "metadata": {},
   "outputs": [],
   "source": [
    "import os\n",
    "import numpy as np\n",
    "import matplotlib\n",
    "import matplotlib.pyplot as plt\n",
    "import scipy.stats\n",
    "from matplotlib import rc\n",
    "\n",
    "# activate latex text rendering\n",
    "rc('text', usetex=True)"
   ]
  },
  {
   "cell_type": "code",
   "execution_count": 2,
   "metadata": {},
   "outputs": [],
   "source": [
    "import statsmodels.api as sm \n",
    "import pylab as py"
   ]
  },
  {
   "cell_type": "code",
   "execution_count": 3,
   "metadata": {},
   "outputs": [],
   "source": [
    "import nibabel as nib\n",
    "import random"
   ]
  },
  {
   "cell_type": "code",
   "execution_count": 4,
   "metadata": {},
   "outputs": [],
   "source": [
    "def voxel_concat_mixed(smooth1,reg1,der1,smooth2,reg2,der2):\n",
    "    Vect_vox=[]\n",
    "    smooth1=str(smooth1)\n",
    "    smooth2=str(smooth2)\n",
    "    reg1=str(reg1)\n",
    "    reg2=str(reg2)\n",
    "    der1=str(der1)\n",
    "    der2=str(der2)\n",
    "    for i in range(1000):\n",
    "        fold='SLA'+str(i+1)+'_50_hand_mixed'\n",
    "        V0 = nib.load(os.path.join('..', 'data',fold,'smooth_'+smooth1+'_'+smooth2,'reg_'+reg1+'_'+reg2,'der_'+der1+'_'+der2,'spmT_0001.nii')).get_data().flatten()\n",
    "        V1 = nib.load(os.path.join('..', 'data',fold,'smooth_'+smooth1+'_'+smooth2,'reg_'+reg1+'_'+reg2,'der_'+der1+'_'+der2,'mask.nii')).get_data().flatten()\n",
    "        V0bis=V0[V1!=0].tolist()\n",
    "        Vect_vox=Vect_vox+V0bis\n",
    "    return Vect_vox;"
   ]
  },
  {
   "cell_type": "code",
   "execution_count": 5,
   "metadata": {},
   "outputs": [],
   "source": [
    "def save_sample(data,name):\n",
    "    random.seed(0)\n",
    "    data_sample=random.sample(data,1000000)\n",
    "    \n",
    "    sample_file = open(name+\".txt\",\"w\")\n",
    "    for i in range(1000000):\n",
    "        sample_file.write(str(data_sample[i]))\n",
    "        if i!=999999:\n",
    "            sample_file.write(\" \\n\")\n",
    "    sample_file.close()"
   ]
  },
  {
   "cell_type": "code",
   "execution_count": 6,
   "metadata": {},
   "outputs": [],
   "source": [
    "def voxel_concat_sample_mixed(smooth1,reg1,der1,smooth2,reg2,der2):\n",
    "    \n",
    "    if not(os.path.isfile('sample_'+str(smooth1)+str(reg1)+str(der1)+'_'+str(smooth2)+str(reg2)+str(der2)+'_mixed.txt')):\n",
    "        vect_vox1 = voxel_concat_mixed(smooth1,reg1,der1,smooth2,reg2,der2)\n",
    "        save_sample(vect_vox1,'sample_'+str(smooth1)+str(reg1)+str(der1)+'_'+str(smooth2)+str(reg2)+str(der2)+'_mixed')\n",
    "        \n",
    "    with open('sample_'+str(smooth1)+str(reg1)+str(der1)+'_'+str(smooth2)+str(reg2)+str(der2)+'_mixed.txt',\"r\") as V0:\n",
    "        filecontents=V0.readlines()\n",
    "    Vect_vox_sample=[float(i) for i in filecontents]\n",
    "    return Vect_vox_sample;"
   ]
  },
  {
   "cell_type": "code",
   "execution_count": 7,
   "metadata": {},
   "outputs": [],
   "source": [
    "def voxel_concat_mixed_cov(smooth1,reg1,der1,smooth2,reg2,der2):\n",
    "    Vect_vox=[]\n",
    "    smooth1=str(smooth1)\n",
    "    smooth2=str(smooth2)\n",
    "    reg1=str(reg1)\n",
    "    reg2=str(reg2)\n",
    "    der1=str(der1)\n",
    "    der2=str(der2)\n",
    "    for i in range(1000):\n",
    "        fold='SLA'+str(i+1)+'_50_hand_mixed_cov'\n",
    "        V0 = nib.load(os.path.join('..', 'data',fold,'smooth_'+smooth1+'_'+smooth2,'reg_'+reg1+'_'+reg2,'der_'+der1+'_'+der2,'spmT_0001.nii')).get_data().flatten()\n",
    "        V1 = nib.load(os.path.join('..', 'data',fold,'smooth_'+smooth1+'_'+smooth2,'reg_'+reg1+'_'+reg2,'der_'+der1+'_'+der2,'mask.nii')).get_data().flatten()\n",
    "        V0bis=V0[V1!=0].tolist()\n",
    "        Vect_vox=Vect_vox+V0bis\n",
    "    return Vect_vox;"
   ]
  },
  {
   "cell_type": "code",
   "execution_count": 8,
   "metadata": {},
   "outputs": [],
   "source": [
    "def voxel_concat_sample_mixed_cov(smooth1,reg1,der1,smooth2,reg2,der2):\n",
    "    \n",
    "    if not(os.path.isfile('sample_'+str(smooth1)+str(reg1)+str(der1)+'_'+str(smooth2)+str(reg2)+str(der2)+'_mixed_cov.txt')):\n",
    "        vect_vox1 = voxel_concat_mixed_cov(smooth1,reg1,der1,smooth2,reg2,der2)\n",
    "        save_sample(vect_vox1,'sample_'+str(smooth1)+str(reg1)+str(der1)+'_'+str(smooth2)+str(reg2)+str(der2)+'_mixed_cov')\n",
    "        \n",
    "    with open('sample_'+str(smooth1)+str(reg1)+str(der1)+'_'+str(smooth2)+str(reg2)+str(der2)+'_mixed_cov.txt',\"r\") as V0:\n",
    "        filecontents=V0.readlines()\n",
    "    Vect_vox_sample=[float(i) for i in filecontents]\n",
    "    return Vect_vox_sample;"
   ]
  },
  {
   "cell_type": "markdown",
   "metadata": {},
   "source": [
    "## Pairs of Pipelines"
   ]
  },
  {
   "cell_type": "markdown",
   "metadata": {},
   "source": [
    "We defined samples for between-group analyses using two given pipelines, for multiple pairs of pipelines, both in SPM and FSL."
   ]
  },
  {
   "cell_type": "code",
   "execution_count": 9,
   "metadata": {},
   "outputs": [],
   "source": [
    "Vect_vox_5240_8240_sample_mixed = voxel_concat_sample_mixed(5,24,0,8,24,0);"
   ]
  },
  {
   "cell_type": "code",
   "execution_count": 10,
   "metadata": {},
   "outputs": [],
   "source": [
    "Vect_vox_5240_8240_sample_mixed_cov = voxel_concat_sample_mixed_cov(5,24,0,8,24,0);"
   ]
  },
  {
   "cell_type": "code",
   "execution_count": 11,
   "metadata": {},
   "outputs": [],
   "source": [
    "Vect_vox_5240_500_sample_mixed = voxel_concat_sample_mixed(5,24,0,5,0,0);"
   ]
  },
  {
   "cell_type": "code",
   "execution_count": 12,
   "metadata": {},
   "outputs": [],
   "source": [
    "Vect_vox_5240_500_sample_mixed_cov = voxel_concat_sample_mixed_cov(5,24,0,5,0,0);"
   ]
  },
  {
   "cell_type": "markdown",
   "metadata": {},
   "source": [
    "# Observations on the Data"
   ]
  },
  {
   "cell_type": "markdown",
   "metadata": {},
   "source": [
    "## Statistical Distributions"
   ]
  },
  {
   "cell_type": "markdown",
   "metadata": {},
   "source": [
    "Distributions of the statistical values were observed for various between-group analyses, and compared to the the distribution associated to the Student law with $n=98$ degrees of freedom."
   ]
  },
  {
   "cell_type": "markdown",
   "metadata": {},
   "source": [
    "## Logarithmic P-P plots"
   ]
  },
  {
   "cell_type": "markdown",
   "metadata": {},
   "source": [
    "For a given set of statistical values that is expected to follow a certain distribution, we can obtained the p-values associated to the statistical values $x_i$, which are to $1 - F(x_i)$ (where F is the distribution function).\n",
    "\n",
    "Since the p-values are expected to follow a uniform distribution on $[0;1]$, for a set of $N$ statistical values, the $k^{th}$ ordered p-value is expected to be equal to $k/(N+1)$ (for our samples of 1000000 statistical values, $k/(1000001)$).\n",
    "\n",
    "P-P plots are used to observe how a given set of statistical values diverge from an expected distribution by plotting, for each ordered statistical value, the expected associated p-value on the x-axis and the obtained p-value on the y-axis. Here we use variants fo P-P plots by replacing the p-values by the following:\n",
    "\n",
    "-on the x-axis: $log_{10}$(expected p-value) instead of the expected p-value\n",
    "\n",
    "-on the y-axis: $log_{10}$(obtained p-value) - $log_{10}$(expected p-value) instead of obtained p-value.\n",
    "\n",
    "Doing so allows us to better observe what happens in the tail of our set of statistical values. Since we observe the $log_{10}$ values of the expected p-values, which go from $1/1000001$ to $1000000/1000001$, on the x-axis, the lowest and highest values on the x-axis are $-log_{10}(1000000/1000001) \\approx 0$ and $-log_{10}(1/1000001) \\approx 6$. For a given $k$, the $k$ lowest expected p-values on the x-axis are in the interval between $-log_{10}(k/1000001) \\approx 6-log_{10}(k)$ and $-log_{10}(1/1000001) \\approx 6$. Therefore, the logarithmic graph gives us a better observation of the behavior of the p-values around 0.\n",
    "\n",
    "(Notably, since we plotted the confidence interval boundaries for the 10000 first p-values, it appears within the $[2,6]$ interval on the x-axis of the plot)\n",
    "\n",
    "High statistical values (right tail of our sample) are associated to low p-values, i.e. to high $log_{10}$ of p-values. Statistical values in the tail are higher than expected when $log_{10}$(obtained p-value) - $log_{10}$(expected p-value) $> 0$, and lower when $log_{10}$(obtained p-value) - $log_{10}$(expected p-value) $< 0$."
   ]
  },
  {
   "cell_type": "markdown",
   "metadata": {},
   "source": [
    "# Results"
   ]
  },
  {
   "cell_type": "markdown",
   "metadata": {},
   "source": [
    "## SPM"
   ]
  },
  {
   "cell_type": "markdown",
   "metadata": {},
   "source": [
    "### P-P Plots"
   ]
  },
  {
   "cell_type": "markdown",
   "metadata": {},
   "source": [
    "The P-P plots below are obtained for various between-group analyses with identical or different pipelines. Default parameter values for both pipelines are the following: 5mm for smoothing kernel FWHM value, 24 motion regressors and no temporal derivatives of the HRF in the GLM model). When not indicated, parameter values in both pipelines are equal to default values."
   ]
  },
  {
   "cell_type": "code",
   "execution_count": 16,
   "metadata": {},
   "outputs": [
    {
     "data": {
      "image/png": "[encoded data removed]",
      "text/plain": [
       "<Figure size 324x216 with 1 Axes>"
      ]
     },
     "metadata": {},
     "output_type": "display_data"
    },
    {
     "data": {
      "image/png": "[encoded data removed]",
      "text/plain": [
       "<Figure size 324x216 with 1 Axes>"
      ]
     },
     "metadata": {},
     "output_type": "display_data"
    }
   ],
   "source": [
    "data1_1=Vect_vox_5240_8240_sample_mixed\n",
    "data2_1=Vect_vox_5240_8240_sample_mixed_cov\n",
    "\n",
    "data1_2=Vect_vox_5240_500_sample_mixed\n",
    "data2_2=Vect_vox_5240_500_sample_mixed_cov\n",
    "\n",
    "matplotlib.rc(\"text\",usetex=True)\n",
    "f,(ax1) = plt.subplots(1,1,sharey=False,figsize=(4.5,3))\n",
    "\n",
    "n=len(data1_1)\n",
    "\n",
    "dist = scipy.stats.t\n",
    "beta = scipy.stats.beta\n",
    "p_th = -np.log10([t/(n+1) for t in range(1,n+1)])\n",
    "p_th_sub=-np.log10([t/(n+1) for t in range(1,10001)])    \n",
    "    \n",
    "conf_int_inf_1 = [-np.log10(beta.interval(0.95,i,n-i+1,loc=0,scale=1)[0])+np.log10(i/(n+1)) for i in range(1,10001)]\n",
    "conf_int_sup_1 = [-np.log10(beta.interval(0.95,i,n-i+1,loc=0,scale=1)[1])+np.log10(i/(n+1)) for i in range(1,10001)]     \n",
    "\n",
    "p_obs_1_1 = -np.log10(sorted(dist.sf(np.array(data1_1),98)))\n",
    "p_obs_2_1 = -np.log10(sorted(dist.sf(np.array(data2_1),98)))\n",
    "    \n",
    "ba_diff_1_1 = [(p_obs_1_1[i] - p_th[i]) for i in range(n)]\n",
    "ba_diff_2_1 = [(p_obs_2_1[i] - p_th[i]) for i in range(n)]\n",
    "\n",
    "line1_1, = ax1.plot(p_th, ba_diff_1_1,'#0000FF')\n",
    "line2_1, = ax1.plot(p_th, ba_diff_2_1,'#FF0000')\n",
    "    \n",
    "ax1.plot(p_th,n*[0],'-')\n",
    "ax1.fill_between(p_th_sub,conf_int_inf_1,conf_int_sup_1,color=\"lightgrey\")\n",
    "    \n",
    "ax1.set_xlabel('expected -log10(p-values)')\n",
    "ax1.set_ylabel('difference between observed\\nand expected -log10(p-values)')\n",
    "ax1.legend([line1_1,line2_1],[\"Smoothing difference without covariate\",\"Smoothing difference with covariate\"])   \n",
    "\n",
    "plt.show()\n",
    "\n",
    "f.savefig(\"QQplotder1.pdf\", bbox_inches='tight')\n",
    "\n",
    "\n",
    "f,(ax2) = plt.subplots(1,1,sharey=False,figsize=(4.5,3))\n",
    "\n",
    "p_obs_1_2 = -np.log10(sorted(dist.sf(np.array(data1_2),98)))\n",
    "p_obs_2_2 = -np.log10(sorted(dist.sf(np.array(data2_2),98)))\n",
    "    \n",
    "ba_diff_1_2 = [(p_obs_1_2[i] - p_th[i]) for i in range(n)]\n",
    "ba_diff_2_2 = [(p_obs_2_2[i] - p_th[i]) for i in range(n)]\n",
    "\n",
    "line1_2, = ax2.plot(p_th, ba_diff_1_2,'#0000FF')\n",
    "line2_2, = ax2.plot(p_th, ba_diff_2_2,'#FF0000',linestyle='dashed')\n",
    "    \n",
    "ax2.plot(p_th,n*[0],'-')\n",
    "ax2.fill_between(p_th_sub,conf_int_inf_1,conf_int_sup_1,color=\"lightgrey\")\n",
    "    \n",
    "ax2.set_xlabel('expected -log10(p-values)')\n",
    "ax2.set_ylabel('difference between observed\\nand expected -log10(p-values)')\n",
    "ax2.legend([line1_2,line2_2],[\"Regressor difference without covariate\",\"Regressor difference with covariate\"])   \n",
    "\n",
    "plt.show()\n",
    "\n",
    "f.savefig(\"QQplotder2.pdf\", bbox_inches='tight')"
   ]
  },
  {
   "cell_type": "code",
   "execution_count": 14,
   "metadata": {},
   "outputs": [
    {
     "data": {
      "image/png": "[encoded data removed]",
      "text/plain": [
       "<Figure size 864x180 with 2 Axes>"
      ]
     },
     "metadata": {},
     "output_type": "display_data"
    }
   ],
   "source": [
    "data1=Vect_vox_5240_8240_sample_mixed\n",
    "data2=Vect_vox_5240_8240_sample_mixed_cov\n",
    "f,(ax1,ax2) = plt.subplots(1,2,sharey=False,figsize=(12,2.5))\n",
    "\n",
    "dist = scipy.stats.t\n",
    "matplotlib.rc(\"text\",usetex=True)\n",
    "\n",
    "n1, bins1, patches1 = ax1.hist(np.array(data1),100,density=True)\n",
    "y1=dist.pdf(bins1,98)\n",
    "ax1.plot(bins1, y1, '-')\n",
    "ax1.set_title(\"Smoothing difference without covariate\",fontsize=15)\n",
    "n2, bins2, patches2 = ax2.hist(np.array(data2),100,density=True)\n",
    "y2=dist.pdf(bins2,98)\n",
    "ax2.plot(bins2, y2, '-')\n",
    "ax2.set_title(\"Smoothing difference with covariate\",fontsize=15)\n",
    "plt.show()"
   ]
  },
  {
   "cell_type": "code",
   "execution_count": 15,
   "metadata": {},
   "outputs": [
    {
     "data": {
      "image/png": "[encoded data removed]",
      "text/plain": [
       "<Figure size 864x180 with 2 Axes>"
      ]
     },
     "metadata": {},
     "output_type": "display_data"
    }
   ],
   "source": [
    "data1=Vect_vox_5240_500_sample_mixed\n",
    "data2=Vect_vox_5240_500_sample_mixed_cov\n",
    "f,(ax1,ax2) = plt.subplots(1,2,sharey=False,figsize=(12,2.5))\n",
    "\n",
    "dist = scipy.stats.t\n",
    "matplotlib.rc(\"text\",usetex=True)\n",
    "\n",
    "n1, bins1, patches1 = ax1.hist(np.array(data1),100,density=True)\n",
    "y1=dist.pdf(bins1,98)\n",
    "ax1.plot(bins1, y1, '-')\n",
    "ax1.set_title(\"Regressor difference without covariate\",fontsize=15)\n",
    "n2, bins2, patches2 = ax2.hist(np.array(data2),100,density=True)\n",
    "y2=dist.pdf(bins2,98)\n",
    "ax2.plot(bins2, y2, '-')\n",
    "ax2.set_title(\"Regressor difference with covariate\",fontsize=15)\n",
    "plt.show()"
   ]
  }
 ],
 "metadata": {
  "kernelspec": {
   "display_name": "Python 3",
   "language": "python",
   "name": "python3"
  },
  "language_info": {
   "codemirror_mode": {
    "name": "ipython",
    "version": 3
   },
   "file_extension": ".py",
   "mimetype": "text/x-python",
   "name": "python",
   "nbconvert_exporter": "python",
   "pygments_lexer": "ipython3",
   "version": "3.7.5"
  }
 },
 "nbformat": 4,
 "nbformat_minor": 2
}
